{
 "cells": [
  {
   "cell_type": "code",
   "execution_count": 33,
   "metadata": {},
   "outputs": [
    {
     "name": "stdout",
     "output_type": "stream",
     "text": [
      "Requirement already satisfied: nltk in c:\\users\\satis\\anaconda3\\envs\\nlpbasics\\lib\\site-packages (3.8.1)\n",
      "Requirement already satisfied: click in c:\\users\\satis\\anaconda3\\envs\\nlpbasics\\lib\\site-packages (from nltk) (8.1.7)\n",
      "Requirement already satisfied: joblib in c:\\users\\satis\\anaconda3\\envs\\nlpbasics\\lib\\site-packages (from nltk) (1.4.0)\n",
      "Requirement already satisfied: regex>=2021.8.3 in c:\\users\\satis\\anaconda3\\envs\\nlpbasics\\lib\\site-packages (from nltk) (2023.12.25)\n",
      "Requirement already satisfied: tqdm in c:\\users\\satis\\anaconda3\\envs\\nlpbasics\\lib\\site-packages (from nltk) (4.66.2)\n",
      "Requirement already satisfied: colorama in c:\\users\\satis\\anaconda3\\envs\\nlpbasics\\lib\\site-packages (from click->nltk) (0.4.6)\n"
     ]
    }
   ],
   "source": [
    "!pip install nltk"
   ]
  },
  {
   "cell_type": "code",
   "execution_count": 34,
   "metadata": {},
   "outputs": [],
   "source": [
    "paragraph = \"In Hyderabad, two rival mafia gangs headed by Dubai-based don Ali Bhai and Narayana resort to criminal activities such as extortion, contract and coercion to take control of the city. The new DCP Sayyad Mohammad Pasha Qadri, focuses on making the city a better place by working on arresting all of them. Pandu, a thug working for money and living in Hyderabad along with his friends, is hired by Narayana to beat up Ali Bhai's henchmen Mallesh. Pandu later joins Ali Bhai's gang for monetary reasons, where falls in love with Shruti, an aerobics master, who initially rejects his advances.Shruti lives with her widowed mother and brother and her neighbor Brahmi, a software engineer who pesters her to marry him. A corrupt SI named Pasupathy, who works for Ali Bhai, lusts after Shruti. He is determined to make her his mistress, undeterred by Shruti's multiple rejections. After killing Narayana's henchman, Pandu is confronted by Pasupathy and is able to prevent Shruti from being molested. Shruthi meets him the next day to thank him, and Pandu introduces himself as a self-employed person who undertakes any activity for money. They develop unspoken feelings for each other angering Pasupathy. Surya Narayana, Shruti's employer suggests that she marry the man she loves.To escape from Pasupathy's advances, Shruthi meets Pandu and proposes to him. After an attack by Narayana's henchmen, Pandu brutally dispatches all the goons, where he reveals himself as a remorseless assassin and suggests that she might want to rethink her proposal. After Shruti distances herself from Pandu, Pasupathy frames her with a mock assault by a few gangsters unbeknownst to her family and the local residents, intending to ruin her life and subsequently force her to be his mistress. Learning this, Pandu beats up Pasupathy and warns him that he will face dire consequences if he is found guilty of being involved.Meanwhile, Ali Bhai visits Hyderabad and assassinates Narayana, where he meets Pandu to discuss the murder of a minister by blowing up children's balloons. Pandu rejects the plan as it would involve killing innocents. In the middle of their argument, the police raids the club and arrests Ali Bhai. However, Ali Bhai's gang members retaliate by kidnapping Qadri's daughter, drugging her and creating a lascivious video of her which they threaten to release to the media if Ali Bhai is not released, forcing the embattled Qadri to release Ali Bhai. However in her drugged state, Qadri's daughter reveals that her father had placed an undercover officer as a mole in Ali Bhai's gang. The gang members find out that an IPS officer by the name of Krishna Manohar, the son of a retired Inspector Suryanarayana, has gone undercover to finish off the syndicate gangs and is now a part of their gang. Ali Bhai kills Ajay, believing he is Krishna Manohar.However, it is revealed that Ajay was actually Suryanarayana's adopted son. Ali Bhai then kills Suryanarayana to lure the real Krishna Manohar. When Krishna Manohar actually turns up, everyone, especially Shruti and Pasupathy are shocked to see that he is Pandu. After Suryanarayana and Ajay's cremation, Pandu forces Pasupathy to call Ali Bhai to find out his location, which is Binny Mills. Pandu arrives at Binny Mills and starts to kill Ali Bhai's gang members one by one, rescuing Qadri's daughter in the process. In a final confrontation, Pandu kills Ali Bhai by slashing his throat with a broken glass window and shoots Pasupathy by saying the following words: Okkasaari commit ayithe naa maata nene vinanu (transl. Once I get committed, I won't listen even to my own words)\""
   ]
  },
  {
   "cell_type": "code",
   "execution_count": 35,
   "metadata": {},
   "outputs": [
    {
     "data": {
      "text/plain": [
       "\"In Hyderabad, two rival mafia gangs headed by Dubai-based don Ali Bhai and Narayana resort to criminal activities such as extortion, contract and coercion to take control of the city. The new DCP Sayyad Mohammad Pasha Qadri, focuses on making the city a better place by working on arresting all of them. Pandu, a thug working for money and living in Hyderabad along with his friends, is hired by Narayana to beat up Ali Bhai's henchmen Mallesh. Pandu later joins Ali Bhai's gang for monetary reasons, where falls in love with Shruti, an aerobics master, who initially rejects his advances.Shruti lives with her widowed mother and brother and her neighbor Brahmi, a software engineer who pesters her to marry him. A corrupt SI named Pasupathy, who works for Ali Bhai, lusts after Shruti. He is determined to make her his mistress, undeterred by Shruti's multiple rejections. After killing Narayana's henchman, Pandu is confronted by Pasupathy and is able to prevent Shruti from being molested. Shruthi meets him the next day to thank him, and Pandu introduces himself as a self-employed person who undertakes any activity for money. They develop unspoken feelings for each other angering Pasupathy. Surya Narayana, Shruti's employer suggests that she marry the man she loves.To escape from Pasupathy's advances, Shruthi meets Pandu and proposes to him. After an attack by Narayana's henchmen, Pandu brutally dispatches all the goons, where he reveals himself as a remorseless assassin and suggests that she might want to rethink her proposal. After Shruti distances herself from Pandu, Pasupathy frames her with a mock assault by a few gangsters unbeknownst to her family and the local residents, intending to ruin her life and subsequently force her to be his mistress. Learning this, Pandu beats up Pasupathy and warns him that he will face dire consequences if he is found guilty of being involved.Meanwhile, Ali Bhai visits Hyderabad and assassinates Narayana, where he meets Pandu to discuss the murder of a minister by blowing up children's balloons. Pandu rejects the plan as it would involve killing innocents. In the middle of their argument, the police raids the club and arrests Ali Bhai. However, Ali Bhai's gang members retaliate by kidnapping Qadri's daughter, drugging her and creating a lascivious video of her which they threaten to release to the media if Ali Bhai is not released, forcing the embattled Qadri to release Ali Bhai. However in her drugged state, Qadri's daughter reveals that her father had placed an undercover officer as a mole in Ali Bhai's gang. The gang members find out that an IPS officer by the name of Krishna Manohar, the son of a retired Inspector Suryanarayana, has gone undercover to finish off the syndicate gangs and is now a part of their gang. Ali Bhai kills Ajay, believing he is Krishna Manohar.However, it is revealed that Ajay was actually Suryanarayana's adopted son. Ali Bhai then kills Suryanarayana to lure the real Krishna Manohar. When Krishna Manohar actually turns up, everyone, especially Shruti and Pasupathy are shocked to see that he is Pandu. After Suryanarayana and Ajay's cremation, Pandu forces Pasupathy to call Ali Bhai to find out his location, which is Binny Mills. Pandu arrives at Binny Mills and starts to kill Ali Bhai's gang members one by one, rescuing Qadri's daughter in the process. In a final confrontation, Pandu kills Ali Bhai by slashing his throat with a broken glass window and shoots Pasupathy by saying the following words: Okkasaari commit ayithe naa maata nene vinanu (transl.\\u2009Once I get committed, I won't listen even to my own words)\""
      ]
     },
     "execution_count": 35,
     "metadata": {},
     "output_type": "execute_result"
    }
   ],
   "source": [
    "paragraph"
   ]
  },
  {
   "cell_type": "code",
   "execution_count": 36,
   "metadata": {},
   "outputs": [],
   "source": [
    "import nltk\n",
    "from nltk.stem import PorterStemmer\n",
    "from nltk.corpus import stopwords\n"
   ]
  },
  {
   "cell_type": "code",
   "execution_count": 37,
   "metadata": {},
   "outputs": [
    {
     "name": "stderr",
     "output_type": "stream",
     "text": [
      "[nltk_data] Downloading package punkt to\n",
      "[nltk_data]     C:\\Users\\satis\\AppData\\Roaming\\nltk_data...\n",
      "[nltk_data]   Package punkt is already up-to-date!\n"
     ]
    }
   ],
   "source": [
    "nltk.download('punkt')\n",
    "sentences = nltk.sent_tokenize(paragraph)"
   ]
  },
  {
   "cell_type": "code",
   "execution_count": 38,
   "metadata": {},
   "outputs": [
    {
     "name": "stdout",
     "output_type": "stream",
     "text": [
      "['In Hyderabad, two rival mafia gangs headed by Dubai-based don Ali Bhai and Narayana resort to criminal activities such as extortion, contract and coercion to take control of the city.', 'The new DCP Sayyad Mohammad Pasha Qadri, focuses on making the city a better place by working on arresting all of them.', \"Pandu, a thug working for money and living in Hyderabad along with his friends, is hired by Narayana to beat up Ali Bhai's henchmen Mallesh.\", \"Pandu later joins Ali Bhai's gang for monetary reasons, where falls in love with Shruti, an aerobics master, who initially rejects his advances.Shruti lives with her widowed mother and brother and her neighbor Brahmi, a software engineer who pesters her to marry him.\", 'A corrupt SI named Pasupathy, who works for Ali Bhai, lusts after Shruti.', \"He is determined to make her his mistress, undeterred by Shruti's multiple rejections.\", \"After killing Narayana's henchman, Pandu is confronted by Pasupathy and is able to prevent Shruti from being molested.\", 'Shruthi meets him the next day to thank him, and Pandu introduces himself as a self-employed person who undertakes any activity for money.', 'They develop unspoken feelings for each other angering Pasupathy.', \"Surya Narayana, Shruti's employer suggests that she marry the man she loves.To escape from Pasupathy's advances, Shruthi meets Pandu and proposes to him.\", \"After an attack by Narayana's henchmen, Pandu brutally dispatches all the goons, where he reveals himself as a remorseless assassin and suggests that she might want to rethink her proposal.\", 'After Shruti distances herself from Pandu, Pasupathy frames her with a mock assault by a few gangsters unbeknownst to her family and the local residents, intending to ruin her life and subsequently force her to be his mistress.', \"Learning this, Pandu beats up Pasupathy and warns him that he will face dire consequences if he is found guilty of being involved.Meanwhile, Ali Bhai visits Hyderabad and assassinates Narayana, where he meets Pandu to discuss the murder of a minister by blowing up children's balloons.\", 'Pandu rejects the plan as it would involve killing innocents.', 'In the middle of their argument, the police raids the club and arrests Ali Bhai.', \"However, Ali Bhai's gang members retaliate by kidnapping Qadri's daughter, drugging her and creating a lascivious video of her which they threaten to release to the media if Ali Bhai is not released, forcing the embattled Qadri to release Ali Bhai.\", \"However in her drugged state, Qadri's daughter reveals that her father had placed an undercover officer as a mole in Ali Bhai's gang.\", 'The gang members find out that an IPS officer by the name of Krishna Manohar, the son of a retired Inspector Suryanarayana, has gone undercover to finish off the syndicate gangs and is now a part of their gang.', \"Ali Bhai kills Ajay, believing he is Krishna Manohar.However, it is revealed that Ajay was actually Suryanarayana's adopted son.\", 'Ali Bhai then kills Suryanarayana to lure the real Krishna Manohar.', 'When Krishna Manohar actually turns up, everyone, especially Shruti and Pasupathy are shocked to see that he is Pandu.', \"After Suryanarayana and Ajay's cremation, Pandu forces Pasupathy to call Ali Bhai to find out his location, which is Binny Mills.\", \"Pandu arrives at Binny Mills and starts to kill Ali Bhai's gang members one by one, rescuing Qadri's daughter in the process.\", 'In a final confrontation, Pandu kills Ali Bhai by slashing his throat with a broken glass window and shoots Pasupathy by saying the following words: Okkasaari commit ayithe naa maata nene vinanu (transl.', \"Once I get committed, I won't listen even to my own words)\"]\n"
     ]
    }
   ],
   "source": [
    "print(sentences)"
   ]
  },
  {
   "cell_type": "code",
   "execution_count": 39,
   "metadata": {},
   "outputs": [
    {
     "data": {
      "text/plain": [
       "'histori'"
      ]
     },
     "execution_count": 39,
     "metadata": {},
     "output_type": "execute_result"
    }
   ],
   "source": [
    "stemmer = PorterStemmer()\n",
    "stemmer.stem('history')"
   ]
  },
  {
   "cell_type": "code",
   "execution_count": 40,
   "metadata": {},
   "outputs": [
    {
     "name": "stderr",
     "output_type": "stream",
     "text": [
      "[nltk_data] Downloading package wordnet to\n",
      "[nltk_data]     C:\\Users\\satis\\AppData\\Roaming\\nltk_data...\n",
      "[nltk_data]   Package wordnet is already up-to-date!\n"
     ]
    }
   ],
   "source": [
    "import nltk\n",
    "nltk.download('wordnet')\n",
    "from nltk.stem import WordNetLemmatizer \n"
   ]
  },
  {
   "cell_type": "code",
   "execution_count": 41,
   "metadata": {},
   "outputs": [],
   "source": [
    "lemmeatizer = WordNetLemmatizer()"
   ]
  },
  {
   "cell_type": "code",
   "execution_count": 42,
   "metadata": {},
   "outputs": [
    {
     "data": {
      "text/plain": [
       "'history'"
      ]
     },
     "execution_count": 42,
     "metadata": {},
     "output_type": "execute_result"
    }
   ],
   "source": [
    "lemmeatizer.lemmatize('history')"
   ]
  },
  {
   "cell_type": "code",
   "execution_count": 43,
   "metadata": {},
   "outputs": [
    {
     "data": {
      "text/plain": [
       "25"
      ]
     },
     "execution_count": 43,
     "metadata": {},
     "output_type": "execute_result"
    }
   ],
   "source": [
    "len(sentences)"
   ]
  },
  {
   "cell_type": "code",
   "execution_count": 44,
   "metadata": {},
   "outputs": [],
   "source": [
    "import re\n",
    "\n",
    "corpus=[]\n",
    "for i in range(len(sentences)):\n",
    "    review = re.sub('[^a-zA-Z]',' ',sentences[i])\n",
    "    review = review.lower()\n",
    "    corpus.append(review)\n"
   ]
  },
  {
   "cell_type": "code",
   "execution_count": 45,
   "metadata": {},
   "outputs": [
    {
     "data": {
      "text/plain": [
       "['in hyderabad  two rival mafia gangs headed by dubai based don ali bhai and narayana resort to criminal activities such as extortion  contract and coercion to take control of the city ',\n",
       " 'the new dcp sayyad mohammad pasha qadri  focuses on making the city a better place by working on arresting all of them ',\n",
       " 'pandu  a thug working for money and living in hyderabad along with his friends  is hired by narayana to beat up ali bhai s henchmen mallesh ',\n",
       " 'pandu later joins ali bhai s gang for monetary reasons  where falls in love with shruti  an aerobics master  who initially rejects his advances shruti lives with her widowed mother and brother and her neighbor brahmi  a software engineer who pesters her to marry him ',\n",
       " 'a corrupt si named pasupathy  who works for ali bhai  lusts after shruti ',\n",
       " 'he is determined to make her his mistress  undeterred by shruti s multiple rejections ',\n",
       " 'after killing narayana s henchman  pandu is confronted by pasupathy and is able to prevent shruti from being molested ',\n",
       " 'shruthi meets him the next day to thank him  and pandu introduces himself as a self employed person who undertakes any activity for money ',\n",
       " 'they develop unspoken feelings for each other angering pasupathy ',\n",
       " 'surya narayana  shruti s employer suggests that she marry the man she loves to escape from pasupathy s advances  shruthi meets pandu and proposes to him ',\n",
       " 'after an attack by narayana s henchmen  pandu brutally dispatches all the goons  where he reveals himself as a remorseless assassin and suggests that she might want to rethink her proposal ',\n",
       " 'after shruti distances herself from pandu  pasupathy frames her with a mock assault by a few gangsters unbeknownst to her family and the local residents  intending to ruin her life and subsequently force her to be his mistress ',\n",
       " 'learning this  pandu beats up pasupathy and warns him that he will face dire consequences if he is found guilty of being involved meanwhile  ali bhai visits hyderabad and assassinates narayana  where he meets pandu to discuss the murder of a minister by blowing up children s balloons ',\n",
       " 'pandu rejects the plan as it would involve killing innocents ',\n",
       " 'in the middle of their argument  the police raids the club and arrests ali bhai ',\n",
       " 'however  ali bhai s gang members retaliate by kidnapping qadri s daughter  drugging her and creating a lascivious video of her which they threaten to release to the media if ali bhai is not released  forcing the embattled qadri to release ali bhai ',\n",
       " 'however in her drugged state  qadri s daughter reveals that her father had placed an undercover officer as a mole in ali bhai s gang ',\n",
       " 'the gang members find out that an ips officer by the name of krishna manohar  the son of a retired inspector suryanarayana  has gone undercover to finish off the syndicate gangs and is now a part of their gang ',\n",
       " 'ali bhai kills ajay  believing he is krishna manohar however  it is revealed that ajay was actually suryanarayana s adopted son ',\n",
       " 'ali bhai then kills suryanarayana to lure the real krishna manohar ',\n",
       " 'when krishna manohar actually turns up  everyone  especially shruti and pasupathy are shocked to see that he is pandu ',\n",
       " 'after suryanarayana and ajay s cremation  pandu forces pasupathy to call ali bhai to find out his location  which is binny mills ',\n",
       " 'pandu arrives at binny mills and starts to kill ali bhai s gang members one by one  rescuing qadri s daughter in the process ',\n",
       " 'in a final confrontation  pandu kills ali bhai by slashing his throat with a broken glass window and shoots pasupathy by saying the following words  okkasaari commit ayithe naa maata nene vinanu  transl ',\n",
       " 'once i get committed  i won t listen even to my own words ']"
      ]
     },
     "execution_count": 45,
     "metadata": {},
     "output_type": "execute_result"
    }
   ],
   "source": [
    "corpus"
   ]
  },
  {
   "cell_type": "code",
   "execution_count": 46,
   "metadata": {},
   "outputs": [
    {
     "ename": "LookupError",
     "evalue": "\n**********************************************************************\n  Resource \u001b[93mstopwords\u001b[0m not found.\n  Please use the NLTK Downloader to obtain the resource:\n\n  \u001b[31m>>> import nltk\n  >>> nltk.download('stopwords')\n  \u001b[0m\n  For more information see: https://www.nltk.org/data.html\n\n  Attempted to load \u001b[93mcorpora/stopwords\u001b[0m\n\n  Searched in:\n    - 'C:\\\\Users\\\\satis/nltk_data'\n    - 'c:\\\\Users\\\\satis\\\\anaconda3\\\\envs\\\\nlpbasics\\\\nltk_data'\n    - 'c:\\\\Users\\\\satis\\\\anaconda3\\\\envs\\\\nlpbasics\\\\share\\\\nltk_data'\n    - 'c:\\\\Users\\\\satis\\\\anaconda3\\\\envs\\\\nlpbasics\\\\lib\\\\nltk_data'\n    - 'C:\\\\Users\\\\satis\\\\AppData\\\\Roaming\\\\nltk_data'\n    - 'C:\\\\nltk_data'\n    - 'D:\\\\nltk_data'\n    - 'E:\\\\nltk_data'\n**********************************************************************\n",
     "output_type": "error",
     "traceback": [
      "\u001b[1;31m---------------------------------------------------------------------------\u001b[0m",
      "\u001b[1;31mLookupError\u001b[0m                               Traceback (most recent call last)",
      "File \u001b[1;32mc:\\Users\\satis\\anaconda3\\envs\\nlpbasics\\Lib\\site-packages\\nltk\\corpus\\util.py:84\u001b[0m, in \u001b[0;36mLazyCorpusLoader.__load\u001b[1;34m(self)\u001b[0m\n\u001b[0;32m     83\u001b[0m \u001b[38;5;28;01mtry\u001b[39;00m:\n\u001b[1;32m---> 84\u001b[0m     root \u001b[38;5;241m=\u001b[39m \u001b[43mnltk\u001b[49m\u001b[38;5;241;43m.\u001b[39;49m\u001b[43mdata\u001b[49m\u001b[38;5;241;43m.\u001b[39;49m\u001b[43mfind\u001b[49m\u001b[43m(\u001b[49m\u001b[38;5;124;43mf\u001b[39;49m\u001b[38;5;124;43m\"\u001b[39;49m\u001b[38;5;132;43;01m{\u001b[39;49;00m\u001b[38;5;28;43mself\u001b[39;49m\u001b[38;5;241;43m.\u001b[39;49m\u001b[43msubdir\u001b[49m\u001b[38;5;132;43;01m}\u001b[39;49;00m\u001b[38;5;124;43m/\u001b[39;49m\u001b[38;5;132;43;01m{\u001b[39;49;00m\u001b[43mzip_name\u001b[49m\u001b[38;5;132;43;01m}\u001b[39;49;00m\u001b[38;5;124;43m\"\u001b[39;49m\u001b[43m)\u001b[49m\n\u001b[0;32m     85\u001b[0m \u001b[38;5;28;01mexcept\u001b[39;00m \u001b[38;5;167;01mLookupError\u001b[39;00m:\n",
      "File \u001b[1;32mc:\\Users\\satis\\anaconda3\\envs\\nlpbasics\\Lib\\site-packages\\nltk\\data.py:583\u001b[0m, in \u001b[0;36mfind\u001b[1;34m(resource_name, paths)\u001b[0m\n\u001b[0;32m    582\u001b[0m resource_not_found \u001b[38;5;241m=\u001b[39m \u001b[38;5;124mf\u001b[39m\u001b[38;5;124m\"\u001b[39m\u001b[38;5;130;01m\\n\u001b[39;00m\u001b[38;5;132;01m{\u001b[39;00msep\u001b[38;5;132;01m}\u001b[39;00m\u001b[38;5;130;01m\\n\u001b[39;00m\u001b[38;5;132;01m{\u001b[39;00mmsg\u001b[38;5;132;01m}\u001b[39;00m\u001b[38;5;130;01m\\n\u001b[39;00m\u001b[38;5;132;01m{\u001b[39;00msep\u001b[38;5;132;01m}\u001b[39;00m\u001b[38;5;130;01m\\n\u001b[39;00m\u001b[38;5;124m\"\u001b[39m\n\u001b[1;32m--> 583\u001b[0m \u001b[38;5;28;01mraise\u001b[39;00m \u001b[38;5;167;01mLookupError\u001b[39;00m(resource_not_found)\n",
      "\u001b[1;31mLookupError\u001b[0m: \n**********************************************************************\n  Resource \u001b[93mstopwords\u001b[0m not found.\n  Please use the NLTK Downloader to obtain the resource:\n\n  \u001b[31m>>> import nltk\n  >>> nltk.download('stopwords')\n  \u001b[0m\n  For more information see: https://www.nltk.org/data.html\n\n  Attempted to load \u001b[93mcorpora/stopwords.zip/stopwords/\u001b[0m\n\n  Searched in:\n    - 'C:\\\\Users\\\\satis/nltk_data'\n    - 'c:\\\\Users\\\\satis\\\\anaconda3\\\\envs\\\\nlpbasics\\\\nltk_data'\n    - 'c:\\\\Users\\\\satis\\\\anaconda3\\\\envs\\\\nlpbasics\\\\share\\\\nltk_data'\n    - 'c:\\\\Users\\\\satis\\\\anaconda3\\\\envs\\\\nlpbasics\\\\lib\\\\nltk_data'\n    - 'C:\\\\Users\\\\satis\\\\AppData\\\\Roaming\\\\nltk_data'\n    - 'C:\\\\nltk_data'\n    - 'D:\\\\nltk_data'\n    - 'E:\\\\nltk_data'\n**********************************************************************\n",
      "\nDuring handling of the above exception, another exception occurred:\n",
      "\u001b[1;31mLookupError\u001b[0m                               Traceback (most recent call last)",
      "Cell \u001b[1;32mIn[46], line 6\u001b[0m\n\u001b[0;32m      4\u001b[0m words\u001b[38;5;241m=\u001b[39mnltk\u001b[38;5;241m.\u001b[39mword_tokenize(i)\n\u001b[0;32m      5\u001b[0m \u001b[38;5;28;01mfor\u001b[39;00m word \u001b[38;5;129;01min\u001b[39;00m words:\n\u001b[1;32m----> 6\u001b[0m     \u001b[38;5;28;01mif\u001b[39;00m word \u001b[38;5;129;01mnot\u001b[39;00m \u001b[38;5;129;01min\u001b[39;00m \u001b[38;5;28mset\u001b[39m(\u001b[43mstopwords\u001b[49m\u001b[38;5;241;43m.\u001b[39;49m\u001b[43mwords\u001b[49m(\u001b[38;5;124m'\u001b[39m\u001b[38;5;124menglish\u001b[39m\u001b[38;5;124m'\u001b[39m)):\n\u001b[0;32m      7\u001b[0m         \u001b[38;5;28mprint\u001b[39m(stemmer\u001b[38;5;241m.\u001b[39mstem(word))\n",
      "File \u001b[1;32mc:\\Users\\satis\\anaconda3\\envs\\nlpbasics\\Lib\\site-packages\\nltk\\corpus\\util.py:121\u001b[0m, in \u001b[0;36mLazyCorpusLoader.__getattr__\u001b[1;34m(self, attr)\u001b[0m\n\u001b[0;32m    118\u001b[0m \u001b[38;5;28;01mif\u001b[39;00m attr \u001b[38;5;241m==\u001b[39m \u001b[38;5;124m\"\u001b[39m\u001b[38;5;124m__bases__\u001b[39m\u001b[38;5;124m\"\u001b[39m:\n\u001b[0;32m    119\u001b[0m     \u001b[38;5;28;01mraise\u001b[39;00m \u001b[38;5;167;01mAttributeError\u001b[39;00m(\u001b[38;5;124m\"\u001b[39m\u001b[38;5;124mLazyCorpusLoader object has no attribute \u001b[39m\u001b[38;5;124m'\u001b[39m\u001b[38;5;124m__bases__\u001b[39m\u001b[38;5;124m'\u001b[39m\u001b[38;5;124m\"\u001b[39m)\n\u001b[1;32m--> 121\u001b[0m \u001b[38;5;28;43mself\u001b[39;49m\u001b[38;5;241;43m.\u001b[39;49m\u001b[43m__load\u001b[49m\u001b[43m(\u001b[49m\u001b[43m)\u001b[49m\n\u001b[0;32m    122\u001b[0m \u001b[38;5;66;03m# This looks circular, but its not, since __load() changes our\u001b[39;00m\n\u001b[0;32m    123\u001b[0m \u001b[38;5;66;03m# __class__ to something new:\u001b[39;00m\n\u001b[0;32m    124\u001b[0m \u001b[38;5;28;01mreturn\u001b[39;00m \u001b[38;5;28mgetattr\u001b[39m(\u001b[38;5;28mself\u001b[39m, attr)\n",
      "File \u001b[1;32mc:\\Users\\satis\\anaconda3\\envs\\nlpbasics\\Lib\\site-packages\\nltk\\corpus\\util.py:86\u001b[0m, in \u001b[0;36mLazyCorpusLoader.__load\u001b[1;34m(self)\u001b[0m\n\u001b[0;32m     84\u001b[0m             root \u001b[38;5;241m=\u001b[39m nltk\u001b[38;5;241m.\u001b[39mdata\u001b[38;5;241m.\u001b[39mfind(\u001b[38;5;124mf\u001b[39m\u001b[38;5;124m\"\u001b[39m\u001b[38;5;132;01m{\u001b[39;00m\u001b[38;5;28mself\u001b[39m\u001b[38;5;241m.\u001b[39msubdir\u001b[38;5;132;01m}\u001b[39;00m\u001b[38;5;124m/\u001b[39m\u001b[38;5;132;01m{\u001b[39;00mzip_name\u001b[38;5;132;01m}\u001b[39;00m\u001b[38;5;124m\"\u001b[39m)\n\u001b[0;32m     85\u001b[0m         \u001b[38;5;28;01mexcept\u001b[39;00m \u001b[38;5;167;01mLookupError\u001b[39;00m:\n\u001b[1;32m---> 86\u001b[0m             \u001b[38;5;28;01mraise\u001b[39;00m e\n\u001b[0;32m     88\u001b[0m \u001b[38;5;66;03m# Load the corpus.\u001b[39;00m\n\u001b[0;32m     89\u001b[0m corpus \u001b[38;5;241m=\u001b[39m \u001b[38;5;28mself\u001b[39m\u001b[38;5;241m.\u001b[39m__reader_cls(root, \u001b[38;5;241m*\u001b[39m\u001b[38;5;28mself\u001b[39m\u001b[38;5;241m.\u001b[39m__args, \u001b[38;5;241m*\u001b[39m\u001b[38;5;241m*\u001b[39m\u001b[38;5;28mself\u001b[39m\u001b[38;5;241m.\u001b[39m__kwargs)\n",
      "File \u001b[1;32mc:\\Users\\satis\\anaconda3\\envs\\nlpbasics\\Lib\\site-packages\\nltk\\corpus\\util.py:81\u001b[0m, in \u001b[0;36mLazyCorpusLoader.__load\u001b[1;34m(self)\u001b[0m\n\u001b[0;32m     79\u001b[0m \u001b[38;5;28;01melse\u001b[39;00m:\n\u001b[0;32m     80\u001b[0m     \u001b[38;5;28;01mtry\u001b[39;00m:\n\u001b[1;32m---> 81\u001b[0m         root \u001b[38;5;241m=\u001b[39m \u001b[43mnltk\u001b[49m\u001b[38;5;241;43m.\u001b[39;49m\u001b[43mdata\u001b[49m\u001b[38;5;241;43m.\u001b[39;49m\u001b[43mfind\u001b[49m\u001b[43m(\u001b[49m\u001b[38;5;124;43mf\u001b[39;49m\u001b[38;5;124;43m\"\u001b[39;49m\u001b[38;5;132;43;01m{\u001b[39;49;00m\u001b[38;5;28;43mself\u001b[39;49m\u001b[38;5;241;43m.\u001b[39;49m\u001b[43msubdir\u001b[49m\u001b[38;5;132;43;01m}\u001b[39;49;00m\u001b[38;5;124;43m/\u001b[39;49m\u001b[38;5;132;43;01m{\u001b[39;49;00m\u001b[38;5;28;43mself\u001b[39;49m\u001b[38;5;241;43m.\u001b[39;49m\u001b[43m__name\u001b[49m\u001b[38;5;132;43;01m}\u001b[39;49;00m\u001b[38;5;124;43m\"\u001b[39;49m\u001b[43m)\u001b[49m\n\u001b[0;32m     82\u001b[0m     \u001b[38;5;28;01mexcept\u001b[39;00m \u001b[38;5;167;01mLookupError\u001b[39;00m \u001b[38;5;28;01mas\u001b[39;00m e:\n\u001b[0;32m     83\u001b[0m         \u001b[38;5;28;01mtry\u001b[39;00m:\n",
      "File \u001b[1;32mc:\\Users\\satis\\anaconda3\\envs\\nlpbasics\\Lib\\site-packages\\nltk\\data.py:583\u001b[0m, in \u001b[0;36mfind\u001b[1;34m(resource_name, paths)\u001b[0m\n\u001b[0;32m    581\u001b[0m sep \u001b[38;5;241m=\u001b[39m \u001b[38;5;124m\"\u001b[39m\u001b[38;5;124m*\u001b[39m\u001b[38;5;124m\"\u001b[39m \u001b[38;5;241m*\u001b[39m \u001b[38;5;241m70\u001b[39m\n\u001b[0;32m    582\u001b[0m resource_not_found \u001b[38;5;241m=\u001b[39m \u001b[38;5;124mf\u001b[39m\u001b[38;5;124m\"\u001b[39m\u001b[38;5;130;01m\\n\u001b[39;00m\u001b[38;5;132;01m{\u001b[39;00msep\u001b[38;5;132;01m}\u001b[39;00m\u001b[38;5;130;01m\\n\u001b[39;00m\u001b[38;5;132;01m{\u001b[39;00mmsg\u001b[38;5;132;01m}\u001b[39;00m\u001b[38;5;130;01m\\n\u001b[39;00m\u001b[38;5;132;01m{\u001b[39;00msep\u001b[38;5;132;01m}\u001b[39;00m\u001b[38;5;130;01m\\n\u001b[39;00m\u001b[38;5;124m\"\u001b[39m\n\u001b[1;32m--> 583\u001b[0m \u001b[38;5;28;01mraise\u001b[39;00m \u001b[38;5;167;01mLookupError\u001b[39;00m(resource_not_found)\n",
      "\u001b[1;31mLookupError\u001b[0m: \n**********************************************************************\n  Resource \u001b[93mstopwords\u001b[0m not found.\n  Please use the NLTK Downloader to obtain the resource:\n\n  \u001b[31m>>> import nltk\n  >>> nltk.download('stopwords')\n  \u001b[0m\n  For more information see: https://www.nltk.org/data.html\n\n  Attempted to load \u001b[93mcorpora/stopwords\u001b[0m\n\n  Searched in:\n    - 'C:\\\\Users\\\\satis/nltk_data'\n    - 'c:\\\\Users\\\\satis\\\\anaconda3\\\\envs\\\\nlpbasics\\\\nltk_data'\n    - 'c:\\\\Users\\\\satis\\\\anaconda3\\\\envs\\\\nlpbasics\\\\share\\\\nltk_data'\n    - 'c:\\\\Users\\\\satis\\\\anaconda3\\\\envs\\\\nlpbasics\\\\lib\\\\nltk_data'\n    - 'C:\\\\Users\\\\satis\\\\AppData\\\\Roaming\\\\nltk_data'\n    - 'C:\\\\nltk_data'\n    - 'D:\\\\nltk_data'\n    - 'E:\\\\nltk_data'\n**********************************************************************\n"
     ]
    }
   ],
   "source": [
    "##stemming \n",
    "import nltk\n",
    "nltk.download('stopwords')\n",
    "\n",
    "for i in corpus:\n",
    "    words=nltk.word_tokenize(i)\n",
    "    for word in words:\n",
    "        if word not in set(stopwords.words('english')):\n",
    "            print(stemmer.stem(word))"
   ]
  }
 ],
 "metadata": {
  "kernelspec": {
   "display_name": "nlpbasics",
   "language": "python",
   "name": "python3"
  },
  "language_info": {
   "codemirror_mode": {
    "name": "ipython",
    "version": 3
   },
   "file_extension": ".py",
   "mimetype": "text/x-python",
   "name": "python",
   "nbconvert_exporter": "python",
   "pygments_lexer": "ipython3",
   "version": "3.12.2"
  }
 },
 "nbformat": 4,
 "nbformat_minor": 2
}
